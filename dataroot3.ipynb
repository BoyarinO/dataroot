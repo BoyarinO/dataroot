{
 "cells": [
  {
   "cell_type": "markdown",
   "metadata": {},
   "source": [
    "# DataRoot University DS100 Test #3\n",
    "На проходження тесту виділяється 112 хвилин."
   ]
  },
  {
   "cell_type": "markdown",
   "metadata": {},
   "source": [
    "## SQL"
   ]
  },
  {
   "cell_type": "markdown",
   "metadata": {},
   "source": [
    "##### Відповідь до кожного завдання у цьому розділі записувати в наступну пусту строку в форматі sql запиту"
   ]
  },
  {
   "cell_type": "markdown",
   "metadata": {},
   "source": [
    "### Коротка інформація про базу даних \"Аерофлот\":\n",
    "\n",
    "Схема БД:\n",
    "\n",
    "- Company (ID_comp, name)\n",
    "- Trip (trip_no, ID_comp, plane, town_from, town_to, time_out, time_in)\n",
    "- Passenger (ID_psg, name)\n",
    "- Pass_in_trip (trip_no, date, ID_psg, place)\n",
    "\n",
    "Таблиця Company містить ідентифікатор і назву компанії, що здійснює перевезення пасажирів.\n",
    "```\n",
    "```\n",
    "Таблиця Trip містить інформацію про рейси: номер рейсу, ідентифікатор компанії, тип літака, місто відправлення, місто прибуття, час відправлення і час прибуття.\n",
    "```\n",
    "```\n",
    "Таблиця Passenger містить ідентифікатор і ім'я пасажира.\n",
    "```\n",
    "```\n",
    "Таблиця Pass_in_trip містить інформацію про польоти: номер рейсу, дата вильоту (день), ідентифікатор пасажира і місце, на якому він сидів під час польоту.\n",
    "```\n",
    "```\n",
    "Зауваження:\n",
    "* рейси виконуються щодня, а тривалість польоту будь-якого рейсу менше доби; town_from <> town_to;\n",
    "* час і дата враховується щодо одного часового поясу;\n",
    "* час відправлення і прибуття вказується з точністю до хвилини;\n",
    "* серед пасажирів можуть бути однофамільці (однакові значення поля name, наприклад, Bruce Willis);\n",
    "* номер місця в салоні - це число з буквою; число визначає номер ряду, буква (a - d) - місце в ряду зліва направо в алфавітному порядку;\n",
    "* зв'язку і обмеження показані на схемі даних.\n",
    "\n",
    "**Дамп**: **[aero_pg_script.sql](https://github.com/dataroot/DRU-DS100-w3/tree/master/tests/3/v3/aero_pg_script.sql)**."
   ]
  },
  {
   "cell_type": "markdown",
   "metadata": {
    "collapsed": true
   },
   "source": [
    "### 1. Знайдіть всі рейси виконані літаком Boeing.\n",
    "```\n",
    "```\n",
    "Довідка по темі:\n",
    "* [Простий оператор SELECT](http://www.sql-tutorial.ru/ru/book_simple_select_statement/page1.html)\n",
    "```\n",
    "```\n",
    "```\n",
    "```\n",
    "```\n",
    "```\n",
    "```\n",
    "Максимальна оцінка: 1 бал\n",
    "Рекомендований час: 3хв\n",
    "```"
   ]
  },
  {
   "cell_type": "code",
   "execution_count": null,
   "metadata": {
    "collapsed": true
   },
   "outputs": [],
   "source": [
    "select * from trip where plane like '%Boeing%'"
   ]
  },
  {
   "cell_type": "markdown",
   "metadata": {},
   "source": [
    "### 2. Визначити імена різних пасажирів, які коли-небудь летіли на одному і тому ж місці більше одного разу.\n",
    "```\n",
    "```\n",
    "Довідка по темі:\n",
    "* [Підзапити](http://www.sql-tutorial.ru/ru/book_subqueries.html)\n",
    "* [Конструкція GROUP BY](http://www.sql-tutorial.ru/ru/book_group_by_clause.html)\n",
    "* [Конструкція HAVING](http://www.sql-tutorial.ru/ru/book_having_clause.html)\n",
    "```\n",
    "```\n",
    "```\n",
    "```\n",
    "```\n",
    "```\n",
    "```\n",
    "Максимальна оцінка: 2 бали\n",
    "Рекомендований час: 6хв\n",
    "```"
   ]
  },
  {
   "cell_type": "code",
   "execution_count": null,
   "metadata": {
    "collapsed": true
   },
   "outputs": [],
   "source": [
    "select name from passenger pas where id_psg in\n",
    "(select DISTINCT id_psg from pass_in_trip tr inner join (select place,count(*) from pass_in_trip group by place having count(*)>1) as cnt\n",
    "  on tr.place = cnt.place)"
   ]
  },
  {
   "cell_type": "markdown",
   "metadata": {},
   "source": [
    "### 3. Знайти кількість маршрутів, які обслуговуються найбільшим числом рейсів.\n",
    "Зауваження:\n",
    "* A - B і B - A вважати РІЗНИМИ маршрутами.\n",
    "* Використовувати тільки таблицю Trip\n",
    "\n",
    "```\n",
    "```\n",
    "Довідка по темі:\n",
    "* [Конструкція GROUP BY](http://www.sql-tutorial.ru/ru/book_group_by_clause.html)\n",
    "* [Конструкція HAVING](http://www.sql-tutorial.ru/ru/book_having_clause.html)\n",
    "* [Використання ключових слів SOME (ANY) і ALL з предикатами порівняння](http://www.sql-tutorial.ru/ru/book_using_any_all_keywords_with_comparison_predicates.html)\n",
    "* [Оператор CASE](http://www.sql-tutorial.ru/ru/book_case_statement.html)\n",
    "```\n",
    "```\n",
    "```\n",
    "```\n",
    "```\n",
    "```\n",
    "```\n",
    "Максимальна оцінка: 2 бали\n",
    "Рекомендований час: 6хв\n",
    "```"
   ]
  },
  {
   "cell_type": "code",
   "execution_count": null,
   "metadata": {
    "collapsed": true
   },
   "outputs": [],
   "source": [
    " with dist as (select  town_from, town_to , count(*) as cnt from trip group by  town_from, town_to)\n",
    "select * from dist where cnt in (select max(cnt) from dist)"
   ]
  },
  {
   "cell_type": "markdown",
   "metadata": {},
   "source": [
    "### 4. Знайти кількість маршрутів, які обслуговуються найбільшим числом рейсів.\n",
    "Зауваження:\n",
    "* A - B і B - A вважати ОДНИМ І ТИМ ЖЕ маршрутом.\n",
    "* Використовувати тільки таблицю Trip\n",
    "\n",
    "```\n",
    "```\n",
    "Довідка по темі:\n",
    "* [Конструкція GROUP BY](http://www.sql-tutorial.ru/ru/book_group_by_clause.html)\n",
    "* [Конструкція HAVING](http://www.sql-tutorial.ru/ru/book_having_clause.html)\n",
    "* [Використання ключових слів SOME (ANY) і ALL з предикатами порівняння](http://www.sql-tutorial.ru/ru/book_using_any_all_keywords_with_comparison_predicates.html)\n",
    "```\n",
    "```\n",
    "```\n",
    "```\n",
    "```\n",
    "```\n",
    "```\n",
    "Максимальна оцінка: 2 бали\n",
    "Рекомендований час: 6хв\n",
    "```"
   ]
  },
  {
   "cell_type": "code",
   "execution_count": null,
   "metadata": {
    "collapsed": true
   },
   "outputs": [],
   "source": [
    " with dist as (select   case\n",
    "         when town_from < town_to then town_from\n",
    "         else town_to\n",
    "       end as town2,\n",
    "       case\n",
    "         when town_from > town_to then town_from\n",
    "         else town_to\n",
    "        end as town1  , count(*) as cnt from trip group by  town1, town2)\n",
    "\n",
    " select * from dist where cnt in (select max(cnt) from dist)"
   ]
  },
  {
   "cell_type": "markdown",
   "metadata": {},
   "source": [
    "### 5. Серед тих, хто користується послугами тільки якоїсь однієї компанії, визначити імена різних пасажирів, що літали частіше за інших. Вивід: ім'я пасажира і число польотів.\n",
    "```\n",
    "```\n",
    "Довідка по темі:\n",
    "* [Підзапити](http://www.sql-tutorial.ru/ru/book_subqueries.html)\n",
    "* [Конструкція GROUP BY](http://www.sql-tutorial.ru/ru/book_group_by_clause.html)\n",
    "* [Конструкція HAVING](http://www.sql-tutorial.ru/ru/book_having_clause.html)\n",
    "* [Явні операції з'єднання](http://www.sql-tutorial.ru/ru/book_explicit_join_operations.html)\n",
    "```\n",
    "```\n",
    "```\n",
    "```\n",
    "```\n",
    "```\n",
    "```\n",
    "Максимальна оцінка: 2 бали\n",
    "Рекомендований час: 6хв\n",
    "```"
   ]
  },
  {
   "cell_type": "code",
   "execution_count": null,
   "metadata": {
    "collapsed": true
   },
   "outputs": [],
   "source": [
    "with psgcom as (select ptr.id_psg, count(*) as cnt  from pass_in_trip as ptr inner join\n",
    "(select id_psg from (select id_psg,id_comp from pass_in_trip as pt\n",
    "inner join trip tr on tr.trip_no=pt.trip_no GROUP BY id_psg,id_comp\n",
    "order by id_psg) as pscmp GROUP BY id_psg  HAVING count(id_comp)=1) as psid\n",
    "  on psid.id_psg=ptr.id_psg group by ptr.id_psg)\n",
    "select name,cnt as count from psgcom\n",
    "inner join passenger psg on psgcom.id_psg=psg.id_psg\n",
    "where cnt = (select max(cnt) from psgcom)"
   ]
  },
  {
   "cell_type": "markdown",
   "metadata": {},
   "source": [
    "### 6. Визначити дні, коли було виконано максимальне число рейсів з Ростова ('Rostov'). Вивід: число рейсів, дата.\n",
    "```\n",
    "```\n",
    "Довідка по темі:\n",
    "* [Явні операції з'єднання](http://www.sql-tutorial.ru/ru/book_explicit_join_operations.html)\n",
    "* [Отримання підсумкових значень](http://www.sql-tutorial.ru/ru/book_getting_summarizing_values.html)\n",
    "```\n",
    "```\n",
    "```\n",
    "```\n",
    "```\n",
    "```\n",
    "```\n",
    "Максимальна оцінка: 2 бали\n",
    "Рекомендований час: 6хв\n",
    "```"
   ]
  },
  {
   "cell_type": "code",
   "execution_count": null,
   "metadata": {
    "collapsed": true
   },
   "outputs": [],
   "source": [
    "with tot as (select to_char(time_out,'YYYY-MM-DD') as date,count(*) as cnt from trip where town_from like '%Rostov%' GROUP BY to_char(time_out,'YYYY-MM-DD') )\n",
    "select date,trip_no from tot tt\n",
    "inner join (select * from trip where town_from like '%Rostov%' ) as trp on to_char(trp.time_out,'YYYY-MM-DD')=tt.date\n",
    "where cnt = (select max(cnt) from tot)"
   ]
  },
  {
   "cell_type": "markdown",
   "metadata": {
    "collapsed": true
   },
   "source": [
    "### 7. Визначити пасажирів, які більше за інших часу провели в польотах. Вивід: ім'я пасажира, загальний час в хвилинах, проведений в польотах\n",
    "```\n",
    "```\n",
    "Довідка по темі:\n",
    "* [Явні операції з'єднання](http://www.sql-tutorial.ru/ru/book_explicit_join_operations.html)\n",
    "* [Отримання підсумкових значень](http://www.sql-tutorial.ru/ru/book_getting_summarizing_values.html)\n",
    "* [Використання ключових слів SOME (ANY) і ALL з предикатами порівняння](http://www.sql-tutorial.ru/ru/book_using_any_all_keywords_with_comparison_predicates.html)\n",
    "* [Функції T-SQL для роботи з датами](http://www.sql-tutorial.ru/ru/book_tsql_datetime_functions.html)\n",
    "\n",
    "```\n",
    "```\n",
    "```\n",
    "```\n",
    "```\n",
    "```\n",
    "```\n",
    "Максимальна оцінка: 2 бали\n",
    "Рекомендований час: 6хв\n",
    "```"
   ]
  },
  {
   "cell_type": "code",
   "execution_count": null,
   "metadata": {
    "collapsed": true
   },
   "outputs": [],
   "source": [
    "with pstim as (select id_psg,sum(abs(extract(epoch from time_out - time_in)/3600)) as total from pass_in_trip pt\n",
    "inner join trip tr\n",
    "  on tr.trip_no=pt.trip_no\n",
    "GROUP BY id_psg)\n",
    "select name,total from pstim  pst\n",
    "inner join passenger psg on pst.id_psg=psg.id_psg\n",
    "where total =(select max(total) from pstim)"
   ]
  },
  {
   "cell_type": "markdown",
   "metadata": {},
   "source": [
    "### 8. Для кожної компанії підрахувати кількість перевезених пасажирів (якщо вони були в цьому місяці) по декадах квітня 2003 року. При цьому враховувати тільки дату вильоту. Вивід: назва компанії, кількість пасажирів за кожну декаду.\n",
    "```\n",
    "```\n",
    "Довідка по темі:\n",
    "* [Конструкція GROUP BY](http://www.sql-tutorial.ru/ru/book_group_by_clause.html)\n",
    "* [Оператор CASE](http://www.sql-tutorial.ru/ru/book_case_statement.html)\n",
    "```\n",
    "```\n",
    "```\n",
    "```\n",
    "```\n",
    "```\n",
    "```\n",
    "Максимальна оцінка: 2 бали\n",
    "Рекомендований час: 6хв\n",
    "```"
   ]
  },
  {
   "cell_type": "code",
   "execution_count": null,
   "metadata": {},
   "outputs": [],
   "source": []
  },
  {
   "cell_type": "markdown",
   "metadata": {},
   "source": [
    "### 9. Для кожної компанії, яка перевозила пасажирів, підрахувати час, який провели в польоті літаки з пасажирами. Вивід: назва компанії, час у хвилинах.\n",
    "```\n",
    "```\n",
    "Довідка по темі:\n",
    "* [Функція DATEDIFF](http://www.sql-tutorial.ru/ru/book_datediff_function.html)\n",
    "* [Оператор CASE](http://www.sql-tutorial.ru/ru/book_case_statement.html)\n",
    "* [Явні операції з'єднання](http://www.sql-tutorial.ru/ru/book_explicit_join_operations.html)\n",
    "* [Отримання підсумкових значень](http://www.sql-tutorial.ru/ru/book_getting_summarizing_values.html)\n",
    "```\n",
    "```\n",
    "```\n",
    "```\n",
    "```\n",
    "```\n",
    "```\n",
    "Максимальна оцінка: 2 бали\n",
    "Рекомендований час: 6хв\n",
    "```"
   ]
  },
  {
   "cell_type": "code",
   "execution_count": null,
   "metadata": {},
   "outputs": [],
   "source": [
    "select sum(abs(extract(epoch from time_out - time_in)/60)) as total , comp.name from trip tr\n",
    "inner join company comp on comp.id_comp=tr.id_comp\n",
    "group by name"
   ]
  },
  {
   "cell_type": "markdown",
   "metadata": {},
   "source": [
    "### 10. Для всіх днів в інтервалі з 01/04/2003 по 07/04/2003 визначити число рейсів з Rostov. Вивід: дата, кількість рейсів\n",
    "```\n",
    "```\n",
    "Довідка по темі:\n",
    "* [Оператор CASE](http://www.sql-tutorial.ru/ru/book_case_statement.html)\n",
    "* [Конструкція GROUP BY](http://www.sql-tutorial.ru/ru/book_group_by_clause.html)\n",
    "* [Явні операції з'єднання](http://www.sql-tutorial.ru/ru/book_explicit_join_operations.html)\n",
    "* [Генерація числової послідовності](http://www.sql-tutorial.ru/ru/book_number_sequence_generation.html)\n",
    "```\n",
    "```\n",
    "```\n",
    "```\n",
    "```\n",
    "```\n",
    "```\n",
    "Максимальна оцінка: 3 бали\n",
    "Рекомендований час: 9хв\n",
    "```"
   ]
  },
  {
   "cell_type": "code",
   "execution_count": null,
   "metadata": {
    "collapsed": true
   },
   "outputs": [],
   "source": [
    "with trdt as (select * FROM pass_in_trip pit\n",
    "inner join trip tr on pit.trip_no=pit.trip_no\n",
    "where pit.date>='2003-04-01 00:00:00' and pit.date<'2003-04-08 00:00:00' and tr.town_from like '%Rostov%' )\n",
    "select extract(day from date) as day, count(*) from trdt GROUP BY extract(day from date)"
   ]
  },
  {
   "cell_type": "markdown",
   "metadata": {},
   "source": [
    "### 11. Визначити час, проведений в польотах, для пасажирів, що літали завжди на різних місцях. Вивід: ім'я пасажира, час у хвилинах.\n",
    "```\n",
    "```\n",
    "Довідка по темі:\n",
    "* [Явні операції з'єднання](http://www.sql-tutorial.ru/ru/book_explicit_join_operations.html)\n",
    "* [Конструкція GROUP BY](http://www.sql-tutorial.ru/ru/book_group_by_clause.html)\n",
    "* [Конструкція HAVING](http://www.sql-tutorial.ru/ru/book_having_clause.html)\n",
    "* [Функція DATEDIFF](http://www.sql-tutorial.ru/ru/book_datediff_function.html)\n",
    "```\n",
    "```\n",
    "```\n",
    "```\n",
    "```\n",
    "```\n",
    "```\n",
    "Максимальна оцінка: 3 бали\n",
    "Рекомендований час: 9хв\n",
    "```"
   ]
  },
  {
   "cell_type": "code",
   "execution_count": null,
   "metadata": {
    "collapsed": true
   },
   "outputs": [],
   "source": [
    "with psgun as (\n",
    "select id_psg,place as tot from pass_in_trip GROUP BY id_psg,place\n",
    "HAVING count(*)=1)\n",
    "\n",
    "  select name,sum as time from psgun psg\n",
    "    inner join\n",
    "(\n",
    "select sum(abs(extract(epoch from time_out - time_in)/60)),id_psg  from trip tr\n",
    "inner join pass_in_trip pit on pit.trip_no=tr.trip_no\n",
    "GROUP BY  id_psg) as psgt on psgt.id_psg=psg.id_psg\n",
    "inner join passenger pass on pass.id_psg=psg.id_psg"
   ]
  },
  {
   "cell_type": "markdown",
   "metadata": {},
   "source": [
    "### 12. Вважаючи, що пункт самого першого вильоту пасажира є місцем проживання, знайти не москвичів, які прилітали до Москви більше одного разу. Вивід: ім'я пасажира, кількість польотів до Москви.\n",
    "```\n",
    "```\n",
    "Довідка по темі:\n",
    "* [Підзапити](http://www.sql-tutorial.ru/ru/book_subqueries.html)\n",
    "* [Конструкція GROUP BY](http://www.sql-tutorial.ru/ru/book_group_by_clause.html)\n",
    "* [Конструкція HAVING](http://www.sql-tutorial.ru/ru/book_having_clause.html)\n",
    "* [Явні операції з'єднання](http://www.sql-tutorial.ru/ru/book_explicit_join_operations.html)\n",
    "```\n",
    "```\n",
    "```\n",
    "```\n",
    "```\n",
    "```\n",
    "```\n",
    "Максимальна оцінка: 3 бал\n",
    "Рекомендований час: 9хв\n",
    "```"
   ]
  },
  {
   "cell_type": "code",
   "execution_count": null,
   "metadata": {
    "collapsed": true
   },
   "outputs": [],
   "source": [
    " with psgnotm as (select id_psg,count(*) from pass_in_trip pit\n",
    "inner join trip on pit.trip_no=trip.trip_no\n",
    "where town_from not like '%Moscow%' and town_to  like '%Moscow%'\n",
    "GROUP BY id_psg)\n",
    "select name,count from psgnotm ps\n",
    "inner join passenger psg on ps.id_psg=psg.id_psg\n",
    "  where count >1"
   ]
  },
  {
   "cell_type": "markdown",
   "metadata": {},
   "source": [
    "### 13. Нехай є деяка підмножина S множини цілих чисел. Назвемо \"гіркою з вершиною N\" послідовність чисел з S, в якій числа, менші ніж N, вибудовані (зліва направо без роздільників) спочатку в зростаючому порядку, а потім - в спадаючому, зі значенням N між ними. Наприклад, для S = {1, 2, ..., 10} гірка з вершиною 5 представляється такою послідовністю: 123454321. При S, що складається з ідентифікаторів всіх компаній, для кожної компанії побудувати \"гірку\", розглядаючи її ідентифікатор в якості вершини. Вважати ідентифікатори позитивними числами і врахувати, що в базі немає даних, при яких кількість цифр в \"гірці\" може перевищити 70. Вивід: id_comp, \"гірка\".\n",
    "```\n",
    "```\n",
    "Довідка по темі:\n",
    "* [Magic](https://i.ytimg.com/vi/eb8896qtFnY/maxresdefault.jpg)\n",
    "```\n",
    "```\n",
    "```\n",
    "```\n",
    "```\n",
    "```\n",
    "```\n",
    "Максимальна оцінка: 5 балів\n",
    "Рекомендований час: 15хв\n",
    "```"
   ]
  },
  {
   "cell_type": "code",
   "execution_count": null,
   "metadata": {
    "collapsed": true
   },
   "outputs": [],
   "source": []
  },
  {
   "cell_type": "markdown",
   "metadata": {
    "collapsed": true
   },
   "source": [
    "## NoSQL"
   ]
  },
  {
   "cell_type": "markdown",
   "metadata": {},
   "source": [
    "##### Відповідь до кожного завдання у цьому розділі записувати в наступну пусту строку в форматі MongoDB NoSQL запиту. Тобто: \n",
    "```\n",
    "db.[collection_name].[action](query_params, ..).\n",
    "```"
   ]
  },
  {
   "cell_type": "markdown",
   "metadata": {},
   "source": [
    "Структура документу в колекції restaurants:\n",
    "```\n",
    "{\n",
    "  \"address\": {\n",
    "     \"building\": \"1007\",\n",
    "     \"coord\": [ -73.856077, 40.848447 ],\n",
    "     \"street\": \"Morris Park Ave\",\n",
    "     \"zipcode\": \"10462\"\n",
    "  },\n",
    "  \"borough\": \"Bronx\",\n",
    "  \"cuisine\": \"Bakery\",\n",
    "  \"grades\": [\n",
    "     { \"date\": { \"$date\": 1393804800000 }, \"grade\": \"A\", \"score\": 2 },\n",
    "     { \"date\": { \"$date\": 1378857600000 }, \"grade\": \"A\", \"score\": 6 },\n",
    "     { \"date\": { \"$date\": 1358985600000 }, \"grade\": \"A\", \"score\": 10 },\n",
    "     { \"date\": { \"$date\": 1322006400000 }, \"grade\": \"A\", \"score\": 9 },\n",
    "     { \"date\": { \"$date\": 1299715200000 }, \"grade\": \"B\", \"score\": 14 }\n",
    "  ],\n",
    "  \"name\": \"Morris Park Bake Shop\",\n",
    "  \"restaurant_id\": \"30075445\"\n",
    "}\n",
    "```\n",
    "\n",
    "**Дамп: [restaurants.json](https://github.com/dataroot/DRU-DS100-w3/tree/master/tests/3/v1/restaurants.json)**.\n",
    "\n",
    "Приклад:\n",
    "```\n",
    "Питання:\n",
    "Напишіть запит MongoDB, щоб відобразити всі документи в колекції restaurants.\n",
    "```\n",
    "```\n",
    "Відповідь:\n",
    "db.restaurants.find();\n",
    "```"
   ]
  },
  {
   "cell_type": "markdown",
   "metadata": {
    "collapsed": true
   },
   "source": [
    "### 14. Напишіть запит MongoDB, щоб відобразити вcі ресторани, які знаходяться в районі Bronx.\n",
    "```\n",
    "```\n",
    "```\n",
    "```\n",
    "```\n",
    "```\n",
    "```\n",
    "Максимальна оцінка: 1 бал\n",
    "Рекомендований час: 3хв\n",
    "```"
   ]
  },
  {
   "cell_type": "code",
   "execution_count": null,
   "metadata": {
    "collapsed": true
   },
   "outputs": [],
   "source": [
    "db.rest.find({borough:\"Bronx\"})"
   ]
  },
  {
   "cell_type": "markdown",
   "metadata": {},
   "source": [
    "### 15. Напишіть запит MongoDB, щоб знайти ресторани, у який не \"American\" кухня і досягли пункту \"А\" та не належить до району Brooklyn. Результат повинен відображатися відповідно до кухні у порядку спадання.\n",
    "```\n",
    "```\n",
    "```\n",
    "```\n",
    "```\n",
    "```\n",
    "```\n",
    "Максимальна оцінка: 1 бал\n",
    "Рекомендований час: 3хв\n",
    "```"
   ]
  },
  {
   "cell_type": "code",
   "execution_count": null,
   "metadata": {
    "collapsed": true
   },
   "outputs": [],
   "source": []
  },
  {
   "cell_type": "markdown",
   "metadata": {},
   "source": [
    "### 16. Напишіть запит MongoDB, щоб знайти ресторани, які досягли балів, більше 80, але менше 100.\n",
    "```\n",
    "```\n",
    "```\n",
    "```\n",
    "```\n",
    "```\n",
    "```\n",
    "Максимальна оцінка: 1 бал\n",
    "Рекомендований час: 3хв\n",
    "```"
   ]
  },
  {
   "cell_type": "code",
   "execution_count": null,
   "metadata": {
    "collapsed": true
   },
   "outputs": [],
   "source": [
    "db.rest.aggregate([\n",
    "  {\n",
    "      $project: {\n",
    "         _id : \"$restaurant_id\",\n",
    "        grades: { $sum: \"$grades.score\"}      \n",
    "      }\n",
    "    },{$match:{ $and: [\n",
    "          {grades:{$gt:80}}, {grades:{$lte:100}}\n",
    "       ] }}\n",
    " ])"
   ]
  },
  {
   "cell_type": "markdown",
   "metadata": {},
   "source": [
    "### 17. Наведіть приклад корисного aggregate запиту для колекції restaurants та поясніть його.\n",
    "```\n",
    "```\n",
    "```\n",
    "```\n",
    "```\n",
    "```\n",
    "```\n",
    "Максимальна оцінка: 6 балів\n",
    "Рекомендований час: 10хв\n",
    "```"
   ]
  },
  {
   "cell_type": "code",
   "execution_count": null,
   "metadata": {
    "collapsed": true
   },
   "outputs": [],
   "source": []
  }
 ],
 "metadata": {
  "kernelspec": {
   "display_name": "Python 3",
   "language": "python",
   "name": "python3"
  },
  "language_info": {
   "codemirror_mode": {
    "name": "ipython",
    "version": 3
   },
   "file_extension": ".py",
   "mimetype": "text/x-python",
   "name": "python",
   "nbconvert_exporter": "python",
   "pygments_lexer": "ipython3",
   "version": "3.6.3"
  }
 },
 "nbformat": 4,
 "nbformat_minor": 2
}
